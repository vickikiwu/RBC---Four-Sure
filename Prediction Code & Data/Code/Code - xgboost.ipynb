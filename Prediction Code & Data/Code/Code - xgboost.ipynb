{
 "cells": [
  {
   "cell_type": "code",
   "execution_count": 1,
   "id": "d5b0d8f5",
   "metadata": {},
   "outputs": [],
   "source": [
    "import numpy as np # linear algebra\n",
    "import pandas as pd # data processing, CSV file I/O (e.g. pd.read_csv)\n",
    "# import seaborn as sns # statistical data visualization\n",
    "from scipy.special import logit, expit"
   ]
  },
  {
   "cell_type": "code",
   "execution_count": 2,
   "id": "70854348",
   "metadata": {},
   "outputs": [],
   "source": [
    "# ignore warnings\n",
    "import warnings\n",
    "warnings.filterwarnings(\"ignore\")"
   ]
  },
  {
   "cell_type": "code",
   "execution_count": 3,
   "id": "fdd642bc",
   "metadata": {},
   "outputs": [],
   "source": [
    "# load and preview data\n",
    "df = pd.read_csv('Admission_Predict.csv')\n",
    "df.head()\n",
    "\n",
    "data_x = df[df.columns[1:8]]\n",
    "data_y = df.iloc[:, 8]\n",
    "# print(data_x)\n",
    "# print(data_y)\n",
    "\n",
    "# Y = expit(data_y)\n",
    "# Y = logit(data_y)\n",
    "Y = data_y\n",
    "# print(Y)\n",
    "\n",
    "#  training and testing set\n",
    "from sklearn.model_selection import train_test_split\n",
    "X_train, X_test, y_train, y_test = train_test_split(data_x, Y, test_size=0.2, random_state=1)"
   ]
  },
  {
   "cell_type": "code",
   "execution_count": 4,
   "id": "bf93f236",
   "metadata": {},
   "outputs": [],
   "source": [
    "from xgboost import XGBRegressor\n",
    "import matplotlib.pyplot as plt\n",
    "# build XGB\n",
    "model = XGBRegressor(n_estimators=25, learning_rate=0.3)\n",
    "# training\n",
    "model.fit(X_train, y_train)\n",
    "y_pred = model.predict(X_test)\n",
    "\n",
    "# print(model.predict(X_train))\n",
    "# print(y_train)"
   ]
  },
  {
   "cell_type": "code",
   "execution_count": 5,
   "id": "ac4c7786",
   "metadata": {},
   "outputs": [
    {
     "data": {
      "image/png": "[encoded data removed]",
      "text/plain": [
       "<Figure size 432x288 with 1 Axes>"
      ]
     },
     "metadata": {
      "needs_background": "light"
     },
     "output_type": "display_data"
    }
   ],
   "source": [
    "# draw\n",
    "import matplotlib.pyplot as plt # data visualization\n",
    "from matplotlib.pyplot import Line2D\n",
    "# add line\n",
    "a = 0.3\n",
    "b = 1.2\n",
    "x1=np.arange(a,b,0.1)\n",
    "y1=np.arange(a,b,0.1)\n",
    "plt.plot(x1,y1,'r')\n",
    "plt.scatter(y_pred,y_test)\n",
    "plt.show()"
   ]
  },
  {
   "cell_type": "code",
   "execution_count": 6,
   "id": "8b7f2468",
   "metadata": {},
   "outputs": [
    {
     "name": "stdout",
     "output_type": "stream",
     "text": [
      "mae: 0.052307489439845076\n",
      "mse: 0.005980117227578052\n",
      "rmse: 0.07733121767810236\n",
      "r2 score: 0.7414275910343265\n"
     ]
    }
   ],
   "source": [
    "from math import sqrt\n",
    "from sklearn.metrics import mean_absolute_error\n",
    "from sklearn.metrics import mean_squared_error\n",
    "from sklearn.metrics import r2_score\n",
    "print(\"mae:\", mean_absolute_error(y_test, y_pred))\n",
    "print(\"mse:\", mean_squared_error(y_test, y_pred))\n",
    "print(\"rmse:\", sqrt(mean_squared_error(y_test, y_pred)))\n",
    "print(\"r2 score:\", r2_score(y_test, y_pred))"
   ]
  },
  {
   "cell_type": "code",
   "execution_count": 7,
   "id": "743516af",
   "metadata": {},
   "outputs": [
    {
     "name": "stdout",
     "output_type": "stream",
     "text": [
      "[0.7797232  0.67991555 0.7907319  0.72790754 0.8508028  0.7177445\n",
      " 0.70376354 0.55366856 0.53551984 0.9261358  0.83553594 0.93761826\n",
      " 0.9211634  0.70772153 0.67860895 0.6987708  0.8081874  0.9048926\n",
      " 0.39926982 0.7086308  0.7200292  0.79296947 0.8609767  0.92983156\n",
      " 0.6850426  0.58527845 0.691637   0.66336256 0.939153   0.66854906\n",
      " 0.933658   0.6430719  0.85395324 0.80508584 0.7297058  0.697575\n",
      " 0.52776533 0.6392299  0.9246881  0.70879436 0.8586873  0.6180403\n",
      " 0.87588453 0.66298044 0.96253717 0.69867086 0.70151997 0.8136832\n",
      " 0.6643947  0.690507   0.810481   0.63484836 0.8194821  0.7227986\n",
      " 0.743235   0.873748   0.45674562 0.48379186 0.7363856  0.7686016\n",
      " 0.9217538  0.72443104 0.8909622  0.72409755 0.5420362  0.76816624\n",
      " 0.8381376  0.7738652  0.6994506  0.7392541  0.83351856 0.5503715\n",
      " 0.73163927 0.6530101  0.8232937  0.5085653  0.7012088  0.6537109\n",
      " 0.6980523  0.61466944]\n"
     ]
    }
   ],
   "source": [
    "print(y_pred)"
   ]
  },
  {
   "cell_type": "code",
   "execution_count": 8,
   "id": "a1024dd9",
   "metadata": {},
   "outputs": [
    {
     "name": "stdout",
     "output_type": "stream",
     "text": [
      "[0.87321883]\n"
     ]
    }
   ],
   "source": [
    "\n",
    "# Predict testing\n",
    "y_new = model.predict(np.array([330,117,4,4,4,8.9,1]).reshape(-1, 7))\n",
    "print(y_new)"
   ]
  },
  {
   "cell_type": "code",
   "execution_count": null,
   "id": "2a9d50b6",
   "metadata": {},
   "outputs": [],
   "source": []
  }
 ],
 "metadata": {
  "kernelspec": {
   "display_name": "Python 3.10.4 ('minimal_ds2')",
   "language": "python",
   "name": "python3"
  },
  "language_info": {
   "codemirror_mode": {
    "name": "ipython",
    "version": 3
   },
   "file_extension": ".py",
   "mimetype": "text/x-python",
   "name": "python",
   "nbconvert_exporter": "python",
   "pygments_lexer": "ipython3",
   "version": "3.10.4"
  },
  "vscode": {
   "interpreter": {
    "hash": "490d79c8dbfc26c7e4111e53de4d829ff0104c0c8631294923241b3745514d74"
   }
  }
 },
 "nbformat": 4,
 "nbformat_minor": 5
}
