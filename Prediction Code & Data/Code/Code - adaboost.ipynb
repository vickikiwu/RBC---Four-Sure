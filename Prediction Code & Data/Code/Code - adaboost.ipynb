{
 "cells": [
  {
   "cell_type": "code",
   "execution_count": 1,
   "id": "d5b0d8f5",
   "metadata": {},
   "outputs": [],
   "source": [
    "import numpy as np # linear algebra\n",
    "import pandas as pd # data processing, CSV file I/O (e.g. pd.read_csv)\n",
    "# import seaborn as sns # statistical data visualization\n",
    "from scipy.special import logit, expit"
   ]
  },
  {
   "cell_type": "code",
   "execution_count": 2,
   "id": "70854348",
   "metadata": {},
   "outputs": [],
   "source": [
    "# ignore warnings\n",
    "import warnings\n",
    "warnings.filterwarnings(\"ignore\")"
   ]
  },
  {
   "cell_type": "code",
   "execution_count": 3,
   "id": "fdd642bc",
   "metadata": {},
   "outputs": [],
   "source": [
    "# load and preview data\n",
    "df = pd.read_csv('Admission_Predict.csv')\n",
    "df.head()\n",
    "\n",
    "data_x = df[df.columns[1:8]]\n",
    "data_y = df.iloc[:, 8]\n",
    "# print(data_x)\n",
    "# print(data_y)\n",
    "\n",
    "# Y = expit(data_y)\n",
    "# Y = logit(data_y)\n",
    "Y = data_y\n",
    "# print(Y)\n",
    "\n",
    "#  training and testing set\n",
    "from sklearn.model_selection import train_test_split\n",
    "X_train, X_test, y_train, y_test = train_test_split(data_x, Y, test_size=0.2, random_state=1)"
   ]
  },
  {
   "cell_type": "code",
   "execution_count": 4,
   "id": "bf93f236",
   "metadata": {},
   "outputs": [],
   "source": [
    "from sklearn.ensemble import AdaBoostRegressor\n",
    "#  build AdaBoostClassifier\n",
    "model = AdaBoostRegressor(n_estimators=1000)\n",
    "# training\n",
    "model.fit(X_train, y_train)\n",
    "\n",
    "y_pred = model.predict(X_test)\n",
    "\n",
    "# print(model.predict(X_train))\n",
    "# print(y_train)"
   ]
  },
  {
   "cell_type": "code",
   "execution_count": 5,
   "id": "ac4c7786",
   "metadata": {},
   "outputs": [
    {
     "data": {
      "image/png": "[encoded data removed]",
      "text/plain": [
       "<Figure size 432x288 with 1 Axes>"
      ]
     },
     "metadata": {
      "needs_background": "light"
     },
     "output_type": "display_data"
    }
   ],
   "source": [
    "# draw\n",
    "import matplotlib.pyplot as plt # data visualization\n",
    "from matplotlib.pyplot import Line2D\n",
    "# add line\n",
    "a = 0.3\n",
    "b = 1.2\n",
    "x1=np.arange(a,b,0.1)\n",
    "y1=np.arange(a,b,0.1)\n",
    "plt.plot(x1,y1,'r')\n",
    "plt.scatter(y_pred,y_test)\n",
    "plt.show()"
   ]
  },
  {
   "cell_type": "code",
   "execution_count": 7,
   "id": "8b7f2468",
   "metadata": {},
   "outputs": [
    {
     "name": "stdout",
     "output_type": "stream",
     "text": [
      "mae: 0.05675344133161013\n",
      "mse: 0.0052404383009194075\n",
      "rmse: 0.07239087166845974\n",
      "r2 score: 0.7734103356275676\n"
     ]
    }
   ],
   "source": [
    "from math import sqrt\n",
    "from sklearn.metrics import mean_absolute_error\n",
    "from sklearn.metrics import mean_squared_error\n",
    "from sklearn.metrics import r2_score\n",
    "print(\"mae:\", mean_absolute_error(y_test, y_pred))\n",
    "print(\"mse:\", mean_squared_error(y_test, y_pred))\n",
    "print(\"rmse:\", sqrt(mean_squared_error(y_test, y_pred)))\n",
    "print(\"r2 score:\", r2_score(y_test, y_pred))"
   ]
  },
  {
   "cell_type": "code",
   "execution_count": 8,
   "id": "1f837f60",
   "metadata": {},
   "outputs": [
    {
     "name": "stdout",
     "output_type": "stream",
     "text": [
      "[0.79833333]\n"
     ]
    }
   ],
   "source": [
    "# Predict testing\n",
    "y_new = model.predict(np.array([330,117,4,4,4,8.9,1]).reshape(-1, 7))\n",
    "print(y_new)"
   ]
  },
  {
   "cell_type": "code",
   "execution_count": null,
   "id": "7a5d7902",
   "metadata": {},
   "outputs": [],
   "source": []
  }
 ],
 "metadata": {
  "kernelspec": {
   "display_name": "Python 3.10.4 ('minimal_ds2')",
   "language": "python",
   "name": "python3"
  },
  "language_info": {
   "codemirror_mode": {
    "name": "ipython",
    "version": 3
   },
   "file_extension": ".py",
   "mimetype": "text/x-python",
   "name": "python",
   "nbconvert_exporter": "python",
   "pygments_lexer": "ipython3",
   "version": "3.10.4"
  },
  "vscode": {
   "interpreter": {
    "hash": "490d79c8dbfc26c7e4111e53de4d829ff0104c0c8631294923241b3745514d74"
   }
  }
 },
 "nbformat": 4,
 "nbformat_minor": 5
}
