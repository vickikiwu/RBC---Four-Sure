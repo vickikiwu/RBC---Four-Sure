{
 "cells": [
  {
   "cell_type": "code",
   "execution_count": 11,
   "id": "c666b394",
   "metadata": {},
   "outputs": [],
   "source": [
    "import numpy as np # linear algebra\n",
    "import pandas as pd # data processing, CSV file I/O (e.g. pd.read_csv)\n",
    "# import seaborn as sns # statistical data visualization\n",
    "from scipy.special import logit, expit"
   ]
  },
  {
   "cell_type": "code",
   "execution_count": 5,
   "id": "70854348",
   "metadata": {},
   "outputs": [],
   "source": [
    "# ignore warnings\n",
    "import warnings\n",
    "warnings.filterwarnings(\"ignore\")"
   ]
  },
  {
   "cell_type": "code",
   "execution_count": 6,
   "id": "fdd642bc",
   "metadata": {},
   "outputs": [],
   "source": [
    "# load and preview data\n",
    "df = pd.read_csv('Admission_Predict.csv')\n",
    "df.head()\n",
    "\n",
    "data_x = df[df.columns[1:8]]\n",
    "data_y = df.iloc[:, 8]\n",
    "# print(data_x)\n",
    "# print(data_y)\n",
    "\n",
    "# Y = expit(data_y)\n",
    "# Y = logit(data_y)\n",
    "Y = data_y\n",
    "# print(Y)\n",
    "\n",
    "#  traning and testing set\n",
    "from sklearn.model_selection import train_test_split\n",
    "X_train, X_test, y_train, y_test = train_test_split(data_x, Y, test_size=0.2, random_state=1)"
   ]
  },
  {
   "cell_type": "code",
   "execution_count": 7,
   "id": "bf93f236",
   "metadata": {},
   "outputs": [],
   "source": [
    "from sklearn.ensemble import RandomForestRegressor\n",
    "import matplotlib.pyplot as plt\n",
    "# build random forest\n",
    "forest = RandomForestRegressor(n_estimators=1000,\n",
    "                               criterion='mse',\n",
    "#                                random_state=1,\n",
    "                               n_jobs=-1)\n",
    "# train random forest\n",
    "forest.fit(X_train, y_train)\n",
    "# y_train_pred = forest.predict(X_train)\n",
    "y_pred = forest.predict(X_test)\n",
    "\n",
    "# print(model.predict(X_train))\n",
    "# print(y_train)"
   ]
  },
  {
   "cell_type": "code",
   "execution_count": 8,
   "id": "ac4c7786",
   "metadata": {},
   "outputs": [
    {
     "data": {
      "image/png": "[encoded data removed]",
      "text/plain": [
       "<Figure size 432x288 with 1 Axes>"
      ]
     },
     "metadata": {
      "needs_background": "light"
     },
     "output_type": "display_data"
    }
   ],
   "source": [
    "# draw\n",
    "import matplotlib.pyplot as plt # data visualization\n",
    "from matplotlib.pyplot import Line2D\n",
    "# add line\n",
    "a = 0.3\n",
    "b = 1.2\n",
    "x1=np.arange(a,b,0.1)\n",
    "y1=np.arange(a,b,0.1)\n",
    "plt.plot(x1,y1,'r')\n",
    "plt.scatter(y_pred,y_test)\n",
    "plt.show()"
   ]
  },
  {
   "cell_type": "code",
   "execution_count": 9,
   "id": "8b7f2468",
   "metadata": {},
   "outputs": [
    {
     "name": "stdout",
     "output_type": "stream",
     "text": [
      "mae: 0.05043075000000019\n",
      "mse: 0.005233035787500023\n",
      "rmse: 0.07233972482322575\n",
      "r2 score: 0.7737304105783434\n"
     ]
    }
   ],
   "source": [
    "from math import sqrt\n",
    "from sklearn.metrics import mean_absolute_error\n",
    "from sklearn.metrics import mean_squared_error\n",
    "from sklearn.metrics import r2_score\n",
    "print(\"mae:\", mean_absolute_error(y_test, y_pred))\n",
    "print(\"mse:\", mean_squared_error(y_test, y_pred))\n",
    "print(\"rmse:\", sqrt(mean_squared_error(y_test, y_pred)))\n",
    "print(\"r2 score:\", r2_score(y_test, y_pred))"
   ]
  },
  {
   "cell_type": "code",
   "execution_count": 12,
   "id": "bdc07554",
   "metadata": {},
   "outputs": [
    {
     "name": "stdout",
     "output_type": "stream",
     "text": [
      "[0.80765]\n"
     ]
    }
   ],
   "source": [
    "# Predict testing\n",
    "y_new = forest.predict(np.array([330,117,4,4,4,8.9,1]).reshape(-1, 7))\n",
    "print(y_new)"
   ]
  },
  {
   "cell_type": "code",
   "execution_count": null,
   "id": "39404924",
   "metadata": {},
   "outputs": [],
   "source": []
  }
 ],
 "metadata": {
  "kernelspec": {
   "display_name": "Python 3.10.4 ('minimal_ds2')",
   "language": "python",
   "name": "python3"
  },
  "language_info": {
   "codemirror_mode": {
    "name": "ipython",
    "version": 3
   },
   "file_extension": ".py",
   "mimetype": "text/x-python",
   "name": "python",
   "nbconvert_exporter": "python",
   "pygments_lexer": "ipython3",
   "version": "3.10.4"
  },
  "vscode": {
   "interpreter": {
    "hash": "490d79c8dbfc26c7e4111e53de4d829ff0104c0c8631294923241b3745514d74"
   }
  }
 },
 "nbformat": 4,
 "nbformat_minor": 5
}
